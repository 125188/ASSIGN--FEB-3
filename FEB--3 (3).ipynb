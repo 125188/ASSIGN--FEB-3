{
 "cells": [
  {
   "cell_type": "code",
   "execution_count": null,
   "id": "51e2cd19-abb9-475f-a42a-3f54a2334104",
   "metadata": {},
   "outputs": [],
   "source": [
    "#1..\n",
    "\n",
    "The key word used to create a function is \"def\" keyword. It is a default keyword set by the pyhton compiler...\n",
    "\n",
    "Program of odd numbers::\n",
    "    def get_odd_numbers(limit):\n",
    "    odd_numbers = []\n",
    "    for n in range(1, limit + 1):\n",
    "        if n % 2 != 0:\n",
    "            odd_numbers.append(n)\n",
    "    return odd_numbers\n",
    "\n",
    "print(get_odd_numbers(25))"
   ]
  },
  {
   "cell_type": "code",
   "execution_count": null,
   "id": "4dd8256f-5493-4eb6-821f-69f384cdb8c3",
   "metadata": {},
   "outputs": [],
   "source": [
    "##2..\n",
    "\n",
    "USE OF *args and **kwargs:\n",
    "*args and **kwargs are used to pass a variable number of arguments to a function. They allow you to pass a varying number of arguments to a function, beyond the explicitly defined parameters.\n",
    "\n",
    "example for (*args) ::\n",
    "\n",
    "def print_args(*args):\n",
    "    for arg in args:\n",
    "        print(arg)\n",
    "        \n",
    "print_args(1, 2, 3)\n",
    "\n",
    "example(**kwargs)::\n",
    "def print_kwargs(**kwargs):\n",
    "    for key, value in kwargs.items():\n",
    "        print(f\"{key}: {value}\")\n",
    "        \n",
    "print_kwargs(a=1, b=2, c=3)\n"
   ]
  },
  {
   "cell_type": "code",
   "execution_count": null,
   "id": "b2fd2d7a-41fd-422c-93c9-aa018972060e",
   "metadata": {},
   "outputs": [],
   "source": [
    "## 3 ..\n",
    "\n",
    "USE OF A ITERATOR ::\n",
    "    \n",
    "    An iterator in Python is an object that implements the iterator protocol, which consists of the methods __iter__() and __next__(). The __iter__() method initializes the iterator, and the __next__() method returns the next item in the iteration.\n",
    "    \n",
    "    EXAMPLE::\n",
    "   \n",
    "list = [2,4,6,8,10,12,14,16,18,20]\n",
    "iterator = iter(list)\n",
    "\n",
    "for i in range(5):\n",
    "    print(next(iterator))"
   ]
  },
  {
   "cell_type": "code",
   "execution_count": null,
   "id": "0b56b954-d185-498c-ac82-f92bd34655ed",
   "metadata": {},
   "outputs": [],
   "source": [
    "## 4...\n",
    "A generator function is a special type of function in Python that generates a generator iterator. It is defined like a normal function but instead of returning a value it uses the yield keyword to return a generator object.When a generator function is called it doesn t execute the function body immediately. Instead, it returns a generator object that can be used to execute the function body later one step at a time.\n",
    "The yield keyword is used in a generator function to return a value and pause the function execution saving the state of the function.The next time the generator is resumed it continues from where it left off allowing it to generate a sequence of values over time.\n",
    "\n",
    "EXAMPLE OF A GENERATOR FUNCTION ::: \n",
    "\n",
    "vdef fibonacci(n):\n",
    "    a, b = 0, 1\n",
    "    for i in range(n):\n",
    "        yield a\n",
    "        a, b = b, a + b\n",
    "\n",
    "\n",
    "fib = fibonacci(10)\n",
    "\n",
    "for i in fib:\n",
    "    print(i)\n"
   ]
  },
  {
   "cell_type": "code",
   "execution_count": null,
   "id": "8356b7f7-28ac-49b0-8f5f-a927d90c2b97",
   "metadata": {},
   "outputs": [],
   "source": [
    "# 5...\n",
    "CODE FOR PRIME NUMBERS\n",
    "\n",
    "def prime_numbers():\n",
    "    yield 2\n",
    "    primes = [2]\n",
    "    number = 3\n",
    "    while number < 1000:\n",
    "        is_prime = True\n",
    "        for prime in primes:\n",
    "            if prime > number**0.5:\n",
    "                break\n",
    "            if number % prime == 0:\n",
    "                is_prime = False\n",
    "                break\n",
    "        if is_prime:\n",
    "            primes.append(number)\n",
    "            yield number\n",
    "        number += 2\n",
    "\n",
    "# Initialize the generator\n",
    "primes = prime_numbers()\n",
    "\n",
    "# Use the next() method to print the first 20 prime numbers\n",
    "for i in range(20):\n",
    "    print(next(primes))\n"
   ]
  },
  {
   "cell_type": "code",
   "execution_count": null,
   "id": "63dee3eb-2554-4526-897d-002832fc5fb1",
   "metadata": {},
   "outputs": [],
   "source": [
    "# 6..\n",
    "\n",
    "PROGRAM OF FIBONACCI NUMBER'S\n",
    "def fibonacci_numbers(n):\n",
    "    a, b = 0, 1\n",
    "    count = 0\n",
    "    while count < n:\n",
    "        print(a)\n",
    "        a, b = b, a + b\n",
    "        count += 1\n",
    "\n",
    "fibonacci_numbers(10)\n",
    "\n"
   ]
  },
  {
   "cell_type": "code",
   "execution_count": null,
   "id": "f266c29c-f92e-4598-9a29-375a6314bed4",
   "metadata": {},
   "outputs": [],
   "source": [
    "# 7 ...\n",
    "CODE FOR THE COMPRESHENSION \n",
    "\n",
    "string = 'pwskills'\n",
    "result = [ ]\n",
    "print(result)\n",
    "\n"
   ]
  },
  {
   "cell_type": "code",
   "execution_count": null,
   "id": "da78ee89-bcd8-4520-96b8-8e36e1e1efa5",
   "metadata": {},
   "outputs": [],
   "source": [
    "# 8...\n",
    "\n",
    "CODE TO CHECK WHETHER IT IS A PALINDROME OR NOT\n",
    "\n",
    "def is_palindrome(n):\n",
    "    original_num = n\n",
    "    reverse_num = 0\n",
    "    while n > 0:\n",
    "        remainder = n % 10\n",
    "        reverse_num = reverse_num * 10 + remainder\n",
    "        n = n // 10\n",
    "    return original_num == reverse_num\n",
    "\n",
    "number = 121\n",
    "if is_palindrome(number):\n",
    "    print(f\"{number} is a palindrome.\")\n",
    "else:\n",
    "    print(f\"{number} is not a palindrome.\")\n",
    "\n"
   ]
  },
  {
   "cell_type": "code",
   "execution_count": null,
   "id": "4c5f8c5e-326f-4562-877c-ab0c223cd092",
   "metadata": {},
   "outputs": [],
   "source": [
    "# 9...\n",
    "\n",
    "odd_numbers = [num for num in range(1, 101) if num % 2 != 0]\n",
    "print(odd_numbers)\n"
   ]
  }
 ],
 "metadata": {
  "kernelspec": {
   "display_name": "Python 3 (ipykernel)",
   "language": "python",
   "name": "python3"
  },
  "language_info": {
   "codemirror_mode": {
    "name": "ipython",
    "version": 3
   },
   "file_extension": ".py",
   "mimetype": "text/x-python",
   "name": "python",
   "nbconvert_exporter": "python",
   "pygments_lexer": "ipython3",
   "version": "3.10.6"
  }
 },
 "nbformat": 4,
 "nbformat_minor": 5
}
